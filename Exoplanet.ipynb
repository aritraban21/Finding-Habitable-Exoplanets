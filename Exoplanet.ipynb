{
 "cells": [
  {
   "cell_type": "markdown",
   "metadata": {},
   "source": [
    "### 1. Importing necessary libraries"
   ]
  },
  {
   "cell_type": "code",
   "execution_count": 1,
   "metadata": {},
   "outputs": [
    {
     "name": "stderr",
     "output_type": "stream",
     "text": [
      "Using TensorFlow backend.\n"
     ]
    }
   ],
   "source": [
    "import numpy as np\n",
    "import matplotlib.pyplot as plt\n",
    "import pandas as pd\n",
    "from sklearn.preprocessing import StandardScaler\n",
    "import keras\n",
    "from keras.models import Sequential\n",
    "from keras.layers import Dense, AlphaDropout\n",
    "from sklearn.metrics import accuracy_score"
   ]
  },
  {
   "cell_type": "markdown",
   "metadata": {},
   "source": [
    "### 2. Reading data from Kepler dataset and setting target variables"
   ]
  },
  {
   "cell_type": "code",
   "execution_count": 2,
   "metadata": {},
   "outputs": [],
   "source": [
    "data_hab = pd.read_csv('habitable_planets_detailed_list.csv')\n",
    "data_non_hab = pd.read_csv('non_habitable_planets_confirmed_detailed_list.csv')\n",
    "\n",
    "data_hab['koi_habitable'] = 1\n",
    "data_non_hab['koi_habitable'] = 0\n",
    "data = data_hab.append(data_non_hab,ignore_index=True)"
   ]
  },
  {
   "cell_type": "markdown",
   "metadata": {},
   "source": [
    "### 3. Removing all non-numeric features and filling missing numeric features with column mean"
   ]
  },
  {
   "cell_type": "code",
   "execution_count": 3,
   "metadata": {},
   "outputs": [
    {
     "name": "stdout",
     "output_type": "stream",
     "text": [
      "<class 'pandas.core.frame.DataFrame'>\n",
      "RangeIndex: 2372 entries, 0 to 2371\n",
      "Columns: 106 entries, rowid to koi_habitable\n",
      "dtypes: float64(98), int64(8)\n",
      "memory usage: 1.9 MB\n"
     ]
    }
   ],
   "source": [
    "data = data._get_numeric_data()\n",
    "\n",
    "#Reamoving non-numeric features\n",
    "data_han = data.dropna(thresh = 500,axis = 1)\n",
    "data_han.info()\n",
    "\n",
    "#Filling misssing(NaN) numeric values with column mean\n",
    "data_han_new = data_han.groupby(data_han.columns,axis = 1).transform(lambda x: x.fillna(x.mean()))\n"
   ]
  },
  {
   "cell_type": "markdown",
   "metadata": {},
   "source": [
    "### 4. Setting features to be used for training"
   ]
  },
  {
   "cell_type": "code",
   "execution_count": 4,
   "metadata": {},
   "outputs": [],
   "source": [
    "X = data_han_new.iloc[:,[7,10,23,24,25,37,38,39,40,41,42,43,52,55,56,57,]]\n",
    "\n",
    "y = data_han_new['koi_habitable']"
   ]
  },
  {
   "cell_type": "markdown",
   "metadata": {},
   "source": [
    "### 5. Splitting the dataset into the Training set and Test set"
   ]
  },
  {
   "cell_type": "code",
   "execution_count": 5,
   "metadata": {},
   "outputs": [],
   "source": [
    "from sklearn.model_selection import train_test_split\n",
    "X_train, X_test, y_train, y_test = train_test_split(X, y, test_size = 0.3, random_state = 41)"
   ]
  },
  {
   "cell_type": "markdown",
   "metadata": {},
   "source": [
    "### 6. Feature Scaling"
   ]
  },
  {
   "cell_type": "code",
   "execution_count": 6,
   "metadata": {},
   "outputs": [],
   "source": [
    "sc = StandardScaler()\n",
    "X_train = sc.fit_transform(X_train)\n",
    "X_test = sc.transform(X_test)"
   ]
  },
  {
   "cell_type": "markdown",
   "metadata": {},
   "source": [
    "### 7. Trainig the neural network"
   ]
  },
  {
   "cell_type": "code",
   "execution_count": 7,
   "metadata": {},
   "outputs": [
    {
     "name": "stdout",
     "output_type": "stream",
     "text": [
      "Epoch 1/100\n",
      "1660/1660 [==============================] - 0s 254us/step - loss: 0.6188 - acc: 0.6614\n",
      "Epoch 2/100\n",
      "1660/1660 [==============================] - 0s 101us/step - loss: 0.3569 - acc: 0.8663\n",
      "Epoch 3/100\n",
      "1660/1660 [==============================] - 0s 107us/step - loss: 0.2392 - acc: 0.9235\n",
      "Epoch 4/100\n",
      "1660/1660 [==============================] - 0s 113us/step - loss: 0.1725 - acc: 0.9476\n",
      "Epoch 5/100\n",
      "1660/1660 [==============================] - 0s 113us/step - loss: 0.1455 - acc: 0.9470\n",
      "Epoch 6/100\n",
      "1660/1660 [==============================] - 0s 104us/step - loss: 0.1329 - acc: 0.9512\n",
      "Epoch 7/100\n",
      "1660/1660 [==============================] - 0s 129us/step - loss: 0.1180 - acc: 0.9602\n",
      "Epoch 8/100\n",
      "1660/1660 [==============================] - 0s 143us/step - loss: 0.0971 - acc: 0.9608\n",
      "Epoch 9/100\n",
      "1660/1660 [==============================] - 0s 120us/step - loss: 0.1009 - acc: 0.9554\n",
      "Epoch 10/100\n",
      "1660/1660 [==============================] - 0s 105us/step - loss: 0.0879 - acc: 0.9627\n",
      "Epoch 11/100\n",
      "1660/1660 [==============================] - 0s 98us/step - loss: 0.0856 - acc: 0.9639\n",
      "Epoch 12/100\n",
      "1660/1660 [==============================] - 0s 96us/step - loss: 0.0996 - acc: 0.9627\n",
      "Epoch 13/100\n",
      "1660/1660 [==============================] - 0s 89us/step - loss: 0.0840 - acc: 0.9645\n",
      "Epoch 14/100\n",
      "1660/1660 [==============================] - 0s 97us/step - loss: 0.0822 - acc: 0.9657\n",
      "Epoch 15/100\n",
      "1660/1660 [==============================] - 0s 98us/step - loss: 0.0783 - acc: 0.9663\n",
      "Epoch 16/100\n",
      "1660/1660 [==============================] - 0s 95us/step - loss: 0.0706 - acc: 0.9687\n",
      "Epoch 17/100\n",
      "1660/1660 [==============================] - 0s 97us/step - loss: 0.0685 - acc: 0.9741\n",
      "Epoch 18/100\n",
      "1660/1660 [==============================] - 0s 92us/step - loss: 0.0731 - acc: 0.9687\n",
      "Epoch 19/100\n",
      "1660/1660 [==============================] - 0s 104us/step - loss: 0.0723 - acc: 0.9675\n",
      "Epoch 20/100\n",
      "1660/1660 [==============================] - 0s 88us/step - loss: 0.0720 - acc: 0.9693\n",
      "Epoch 21/100\n",
      "1660/1660 [==============================] - 0s 89us/step - loss: 0.0684 - acc: 0.9687\n",
      "Epoch 22/100\n",
      "1660/1660 [==============================] - 0s 97us/step - loss: 0.0689 - acc: 0.9663\n",
      "Epoch 23/100\n",
      "1660/1660 [==============================] - 0s 108us/step - loss: 0.0710 - acc: 0.9729\n",
      "Epoch 24/100\n",
      "1660/1660 [==============================] - 0s 105us/step - loss: 0.0620 - acc: 0.9741\n",
      "Epoch 25/100\n",
      "1660/1660 [==============================] - 0s 127us/step - loss: 0.0621 - acc: 0.9735\n",
      "Epoch 26/100\n",
      "1660/1660 [==============================] - 0s 105us/step - loss: 0.0529 - acc: 0.9783\n",
      "Epoch 27/100\n",
      "1660/1660 [==============================] - 0s 106us/step - loss: 0.0624 - acc: 0.9735\n",
      "Epoch 28/100\n",
      "1660/1660 [==============================] - 0s 107us/step - loss: 0.0653 - acc: 0.9675\n",
      "Epoch 29/100\n",
      "1660/1660 [==============================] - 0s 103us/step - loss: 0.0617 - acc: 0.9765\n",
      "Epoch 30/100\n",
      "1660/1660 [==============================] - 0s 100us/step - loss: 0.0603 - acc: 0.9789\n",
      "Epoch 31/100\n",
      "1660/1660 [==============================] - 0s 99us/step - loss: 0.0555 - acc: 0.9753\n",
      "Epoch 32/100\n",
      "1660/1660 [==============================] - 0s 102us/step - loss: 0.0595 - acc: 0.9711\n",
      "Epoch 33/100\n",
      "1660/1660 [==============================] - 0s 98us/step - loss: 0.0552 - acc: 0.9753\n",
      "Epoch 34/100\n",
      "1660/1660 [==============================] - 0s 108us/step - loss: 0.0504 - acc: 0.9753\n",
      "Epoch 35/100\n",
      "1660/1660 [==============================] - 0s 117us/step - loss: 0.0539 - acc: 0.9789\n",
      "Epoch 36/100\n",
      "1660/1660 [==============================] - 0s 101us/step - loss: 0.0566 - acc: 0.9759\n",
      "Epoch 37/100\n",
      "1660/1660 [==============================] - 0s 104us/step - loss: 0.0515 - acc: 0.9735\n",
      "Epoch 38/100\n",
      "1660/1660 [==============================] - 0s 101us/step - loss: 0.0606 - acc: 0.9753\n",
      "Epoch 39/100\n",
      "1660/1660 [==============================] - 0s 103us/step - loss: 0.0488 - acc: 0.9783\n",
      "Epoch 40/100\n",
      "1660/1660 [==============================] - 0s 102us/step - loss: 0.0478 - acc: 0.9801\n",
      "Epoch 41/100\n",
      "1660/1660 [==============================] - 0s 102us/step - loss: 0.0484 - acc: 0.9801\n",
      "Epoch 42/100\n",
      "1660/1660 [==============================] - 0s 100us/step - loss: 0.0604 - acc: 0.9747\n",
      "Epoch 43/100\n",
      "1660/1660 [==============================] - 0s 99us/step - loss: 0.0514 - acc: 0.9783\n",
      "Epoch 44/100\n",
      "1660/1660 [==============================] - 0s 110us/step - loss: 0.0501 - acc: 0.9783\n",
      "Epoch 45/100\n",
      "1660/1660 [==============================] - 0s 122us/step - loss: 0.0509 - acc: 0.9801\n",
      "Epoch 46/100\n",
      "1660/1660 [==============================] - 0s 110us/step - loss: 0.0476 - acc: 0.9729\n",
      "Epoch 47/100\n",
      "1660/1660 [==============================] - 0s 108us/step - loss: 0.0452 - acc: 0.9795\n",
      "Epoch 48/100\n",
      "1660/1660 [==============================] - 0s 102us/step - loss: 0.0456 - acc: 0.9819\n",
      "Epoch 49/100\n",
      "1660/1660 [==============================] - 0s 102us/step - loss: 0.0464 - acc: 0.9789\n",
      "Epoch 50/100\n",
      "1660/1660 [==============================] - 0s 102us/step - loss: 0.0480 - acc: 0.9777\n",
      "Epoch 51/100\n",
      "1660/1660 [==============================] - 0s 107us/step - loss: 0.0425 - acc: 0.9819\n",
      "Epoch 52/100\n",
      "1660/1660 [==============================] - 0s 102us/step - loss: 0.0440 - acc: 0.9819\n",
      "Epoch 53/100\n",
      "1660/1660 [==============================] - 0s 98us/step - loss: 0.0432 - acc: 0.9801\n",
      "Epoch 54/100\n",
      "1660/1660 [==============================] - 0s 88us/step - loss: 0.0430 - acc: 0.9801\n",
      "Epoch 55/100\n",
      "1660/1660 [==============================] - 0s 89us/step - loss: 0.0450 - acc: 0.9801\n",
      "Epoch 56/100\n",
      "1660/1660 [==============================] - 0s 90us/step - loss: 0.0404 - acc: 0.9831\n",
      "Epoch 57/100\n",
      "1660/1660 [==============================] - 0s 97us/step - loss: 0.0463 - acc: 0.9825\n",
      "Epoch 58/100\n",
      "1660/1660 [==============================] - 0s 89us/step - loss: 0.0456 - acc: 0.9807\n",
      "Epoch 59/100\n",
      "1660/1660 [==============================] - 0s 91us/step - loss: 0.0415 - acc: 0.9819\n",
      "Epoch 60/100\n",
      "1660/1660 [==============================] - 0s 88us/step - loss: 0.0466 - acc: 0.9789\n",
      "Epoch 61/100\n",
      "1660/1660 [==============================] - 0s 88us/step - loss: 0.0410 - acc: 0.9807\n",
      "Epoch 62/100\n",
      "1660/1660 [==============================] - 0s 89us/step - loss: 0.0368 - acc: 0.9825\n",
      "Epoch 63/100\n",
      "1660/1660 [==============================] - 0s 89us/step - loss: 0.0492 - acc: 0.9777\n",
      "Epoch 64/100\n",
      "1660/1660 [==============================] - 0s 88us/step - loss: 0.0431 - acc: 0.9795\n",
      "Epoch 65/100\n",
      "1660/1660 [==============================] - 0s 88us/step - loss: 0.0419 - acc: 0.9801\n",
      "Epoch 66/100\n",
      "1660/1660 [==============================] - 0s 88us/step - loss: 0.0386 - acc: 0.9789\n",
      "Epoch 67/100\n",
      "1660/1660 [==============================] - 0s 90us/step - loss: 0.0469 - acc: 0.9777\n",
      "Epoch 68/100\n",
      "1660/1660 [==============================] - 0s 89us/step - loss: 0.0414 - acc: 0.9819\n",
      "Epoch 69/100\n",
      "1660/1660 [==============================] - 0s 90us/step - loss: 0.0422 - acc: 0.9819\n",
      "Epoch 70/100\n",
      "1660/1660 [==============================] - 0s 88us/step - loss: 0.0370 - acc: 0.9813\n",
      "Epoch 71/100\n",
      "1660/1660 [==============================] - 0s 91us/step - loss: 0.0445 - acc: 0.9777\n",
      "Epoch 72/100\n",
      "1660/1660 [==============================] - 0s 89us/step - loss: 0.0423 - acc: 0.9813\n",
      "Epoch 73/100\n",
      "1660/1660 [==============================] - 0s 89us/step - loss: 0.0378 - acc: 0.9837\n",
      "Epoch 74/100\n",
      "1660/1660 [==============================] - 0s 103us/step - loss: 0.0439 - acc: 0.9819\n",
      "Epoch 75/100\n",
      "1660/1660 [==============================] - 0s 99us/step - loss: 0.0371 - acc: 0.9831\n",
      "Epoch 76/100\n",
      "1660/1660 [==============================] - 0s 89us/step - loss: 0.0391 - acc: 0.9843\n",
      "Epoch 77/100\n",
      "1660/1660 [==============================] - 0s 97us/step - loss: 0.0391 - acc: 0.9837\n",
      "Epoch 78/100\n",
      "1660/1660 [==============================] - 0s 97us/step - loss: 0.0437 - acc: 0.9801\n",
      "Epoch 79/100\n",
      "1660/1660 [==============================] - 0s 110us/step - loss: 0.0397 - acc: 0.9807\n",
      "Epoch 80/100\n",
      "1660/1660 [==============================] - 0s 112us/step - loss: 0.0397 - acc: 0.9813\n",
      "Epoch 81/100\n",
      "1660/1660 [==============================] - 0s 99us/step - loss: 0.0388 - acc: 0.9837\n",
      "Epoch 82/100\n"
     ]
    },
    {
     "name": "stdout",
     "output_type": "stream",
     "text": [
      "1660/1660 [==============================] - 0s 107us/step - loss: 0.0382 - acc: 0.9819\n",
      "Epoch 83/100\n",
      "1660/1660 [==============================] - 0s 101us/step - loss: 0.0388 - acc: 0.9825\n",
      "Epoch 84/100\n",
      "1660/1660 [==============================] - 0s 107us/step - loss: 0.0398 - acc: 0.9807\n",
      "Epoch 85/100\n",
      "1660/1660 [==============================] - 0s 122us/step - loss: 0.0418 - acc: 0.9795\n",
      "Epoch 86/100\n",
      "1660/1660 [==============================] - 0s 110us/step - loss: 0.0365 - acc: 0.9831\n",
      "Epoch 87/100\n",
      "1660/1660 [==============================] - 0s 112us/step - loss: 0.0396 - acc: 0.9819\n",
      "Epoch 88/100\n",
      "1660/1660 [==============================] - 0s 108us/step - loss: 0.0375 - acc: 0.9831\n",
      "Epoch 89/100\n",
      "1660/1660 [==============================] - 0s 103us/step - loss: 0.0414 - acc: 0.9825\n",
      "Epoch 90/100\n",
      "1660/1660 [==============================] - 0s 104us/step - loss: 0.0384 - acc: 0.9837\n",
      "Epoch 91/100\n",
      "1660/1660 [==============================] - 0s 126us/step - loss: 0.0334 - acc: 0.9855\n",
      "Epoch 92/100\n",
      "1660/1660 [==============================] - 0s 110us/step - loss: 0.0329 - acc: 0.9855\n",
      "Epoch 93/100\n",
      "1660/1660 [==============================] - 0s 143us/step - loss: 0.0314 - acc: 0.9855\n",
      "Epoch 94/100\n",
      "1660/1660 [==============================] - 0s 113us/step - loss: 0.0371 - acc: 0.9789\n",
      "Epoch 95/100\n",
      "1660/1660 [==============================] - 0s 98us/step - loss: 0.0369 - acc: 0.9825\n",
      "Epoch 96/100\n",
      "1660/1660 [==============================] - 0s 103us/step - loss: 0.0446 - acc: 0.9801\n",
      "Epoch 97/100\n",
      "1660/1660 [==============================] - 0s 95us/step - loss: 0.0346 - acc: 0.9843\n",
      "Epoch 98/100\n",
      "1660/1660 [==============================] - 0s 97us/step - loss: 0.0355 - acc: 0.9831\n",
      "Epoch 99/100\n",
      "1660/1660 [==============================] - 0s 94us/step - loss: 0.0446 - acc: 0.9801\n",
      "Epoch 100/100\n",
      "1660/1660 [==============================] - 0s 89us/step - loss: 0.0368 - acc: 0.9861\n"
     ]
    },
    {
     "data": {
      "text/plain": [
       "<keras.callbacks.History at 0x7f38f9cd84a8>"
      ]
     },
     "execution_count": 7,
     "metadata": {},
     "output_type": "execute_result"
    }
   ],
   "source": [
    "\n",
    "# Initialising the ANN\n",
    "classifier = Sequential()\n",
    "\n",
    "# Adding the input layer and the first hidden layer\n",
    "classifier.add(Dense(units = 20,bias_initializer = 'zeros', kernel_initializer = 'lecun_normal', activation = 'selu', input_dim = 16))\n",
    "classifier.add(AlphaDropout(0.3))\n",
    "# Adding the second hidden layer\n",
    "classifier.add(Dense(units = 20, bias_initializer = 'zeros',kernel_initializer = 'lecun_normal', activation = 'selu'))\n",
    "classifier.add(AlphaDropout(0.3))\n",
    "\n",
    "# Adding the output layer\n",
    "classifier.add(Dense(units = 1,bias_initializer = 'zeros', kernel_initializer = 'lecun_normal', activation = 'sigmoid'))\n",
    "\n",
    "# Compiling the ANN\n",
    "classifier.compile(optimizer = 'adam', loss = 'binary_crossentropy', metrics = ['accuracy'])\n",
    "\n",
    "# Fitting the ANN to training data\n",
    "classifier.fit(X_train, y_train, batch_size = 10, epochs = 100)"
   ]
  },
  {
   "cell_type": "markdown",
   "metadata": {},
   "source": [
    "### 8. Printing  test set accuracy"
   ]
  },
  {
   "cell_type": "code",
   "execution_count": 8,
   "metadata": {},
   "outputs": [
    {
     "name": "stdout",
     "output_type": "stream",
     "text": [
      "0.976123595505618\n"
     ]
    }
   ],
   "source": [
    "y_pred = classifier.predict(X_test)\n",
    "y_pred = (y_pred > 0.5)\n",
    "print(accuracy_score(y_test,y_pred))"
   ]
  }
 ],
 "metadata": {
  "kernelspec": {
   "display_name": "Python 3",
   "language": "python",
   "name": "python3"
  },
  "language_info": {
   "codemirror_mode": {
    "name": "ipython",
    "version": 3
   },
   "file_extension": ".py",
   "mimetype": "text/x-python",
   "name": "python",
   "nbconvert_exporter": "python",
   "pygments_lexer": "ipython3",
   "version": "3.6.8"
  }
 },
 "nbformat": 4,
 "nbformat_minor": 2
}
